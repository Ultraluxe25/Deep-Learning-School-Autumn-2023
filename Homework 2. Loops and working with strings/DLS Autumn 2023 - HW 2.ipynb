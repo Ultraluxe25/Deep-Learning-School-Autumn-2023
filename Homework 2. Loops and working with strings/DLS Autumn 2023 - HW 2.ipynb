{
 "cells": [
  {
   "cell_type": "markdown",
   "id": "2dd4c6a9",
   "metadata": {},
   "source": [
    "## Задача 1\n",
    "### Дано натуральное число n⩽50. Выведите на экран \"пирамидку\" из звезд, состоящую из n строк: \n",
    "### в k-ой строке ровно k звезд.\n",
    "\n",
    "**Sample Input:**\n",
    "\n",
    "3\n",
    "\n",
    "**Sample Output:**\n",
    "```Python\n",
    "*\n",
    "**\n",
    "***\n",
    "```"
   ]
  },
  {
   "cell_type": "code",
   "execution_count": 1,
   "id": "f35b9921",
   "metadata": {},
   "outputs": [
    {
     "name": "stdout",
     "output_type": "stream",
     "text": [
      "3\n",
      "*\n",
      "**\n",
      "***\n"
     ]
    }
   ],
   "source": [
    "print(*['*' * (i + 1) for i in range(int(input()))], sep='\\n')"
   ]
  },
  {
   "cell_type": "markdown",
   "id": "88b81001",
   "metadata": {},
   "source": [
    "## Задача 2\n",
    "### Дана строка из строчных букв английского алфавита. \n",
    "### Необходимо заменить в ней все символы 'x' на '??' и вывести ее.\n",
    "\n",
    "**Sample Input:**\n",
    "\n",
    "extra\n",
    "\n",
    "**Sample Output:**\n",
    "\n",
    "e??tra"
   ]
  },
  {
   "cell_type": "code",
   "execution_count": 2,
   "id": "df14cd36",
   "metadata": {},
   "outputs": [
    {
     "name": "stdout",
     "output_type": "stream",
     "text": [
      "extra\n",
      "e??tra\n"
     ]
    }
   ],
   "source": [
    "print(input().replace('x', '??'))"
   ]
  },
  {
   "cell_type": "markdown",
   "id": "d370fbc9",
   "metadata": {},
   "source": [
    "## Задача 3\n",
    "### Дана строка из строчных букв английского алфавита. \n",
    "### Необходимо найти количество пар букв 'a' и 'b', таких, что буква 'a' находится раньше 'b'.\n",
    "\n",
    "**Sample Input:**\n",
    "\n",
    "afbjab\n",
    "\n",
    "**Sample Output:**\n",
    "\n",
    "3"
   ]
  },
  {
   "cell_type": "code",
   "execution_count": 3,
   "id": "e52dbfe8",
   "metadata": {},
   "outputs": [
    {
     "name": "stdout",
     "output_type": "stream",
     "text": [
      "afbjab\n",
      "3\n"
     ]
    }
   ],
   "source": [
    "def count_pairs(text: str) -> int:\n",
    "    result: int = 0\n",
    "    for index, letter in enumerate(text):\n",
    "        if letter == 'a':\n",
    "            result += text[index + 1:].count('b')\n",
    "    return result\n",
    "\n",
    "\n",
    "message = input()\n",
    "print(count_pairs(message))"
   ]
  },
  {
   "cell_type": "markdown",
   "id": "b6d8a363",
   "metadata": {},
   "source": [
    "## Задача 4\n",
    "### Дано число n⩽10. Найдите n-oe число Фиббоначчи. \n",
    "### Так как это число может быть очень большим, выведите его остаток по модулю 1000000007. \n",
    "\n",
    "**Sample Input:**\n",
    "\n",
    "3\n",
    "\n",
    "**Sample Output:**\n",
    "\n",
    "2"
   ]
  },
  {
   "cell_type": "code",
   "execution_count": 4,
   "id": "e9824d2c",
   "metadata": {},
   "outputs": [
    {
     "name": "stdout",
     "output_type": "stream",
     "text": [
      "3\n",
      "2\n"
     ]
    }
   ],
   "source": [
    "def find_fibonacci_sequence_element(n: int) -> int:\n",
    "    n1, n2 = 1, 1\n",
    "    if n <= 2:\n",
    "        return 1\n",
    "    for i in range(3, n + 1):\n",
    "        n1, n2 = n2, n1 + n2\n",
    "    return n2 % 1000000007\n",
    "\n",
    "\n",
    "number = int(input())\n",
    "print(find_fibonacci_sequence_element(number))"
   ]
  },
  {
   "cell_type": "markdown",
   "id": "7fa41749",
   "metadata": {},
   "source": [
    "## Задача 5\n",
    "### Дано число n⩽10 ** 14. Найдите количество чисел от 1 до n включительно, \n",
    "### которые являются полным квадратом или кубом.\n",
    "\n",
    "**Sample Input:**\n",
    "\n",
    "1\n",
    "\n",
    "**Sample Output:**\n",
    "\n",
    "1"
   ]
  },
  {
   "cell_type": "code",
   "execution_count": 5,
   "id": "906aa7a6",
   "metadata": {},
   "outputs": [
    {
     "name": "stdout",
     "output_type": "stream",
     "text": [
      "1\n",
      "1\n"
     ]
    }
   ],
   "source": [
    "def find_perfect_square_or_cube(n: int) -> int:\n",
    "    result = [0, 0, 0]  # [pow 2, pow 3, pow 6]\n",
    "    for number in range(1, int(n ** 0.5) + 1):\n",
    "        if number ** 2 <= n:\n",
    "            result[0] += 1\n",
    "        if number ** 3 <= n:\n",
    "            result[1] += 1\n",
    "        if number ** 6 <= n:\n",
    "            result[2] += 1\n",
    "    # result = union of A and B minus (intersection of A and B)\n",
    "    return sum(result[:2]) - result[2]\n",
    "\n",
    "\n",
    "num = int(input())\n",
    "print(find_perfect_square_or_cube(num))"
   ]
  }
 ],
 "metadata": {
  "kernelspec": {
   "display_name": "Python 3 (ipykernel)",
   "language": "python",
   "name": "python3"
  },
  "language_info": {
   "codemirror_mode": {
    "name": "ipython",
    "version": 3
   },
   "file_extension": ".py",
   "mimetype": "text/x-python",
   "name": "python",
   "nbconvert_exporter": "python",
   "pygments_lexer": "ipython3",
   "version": "3.11.4"
  }
 },
 "nbformat": 4,
 "nbformat_minor": 5
}
